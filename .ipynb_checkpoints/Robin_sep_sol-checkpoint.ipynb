{
 "cells": [
  {
   "cell_type": "markdown",
   "metadata": {},
   "source": [
    "## Description <a name=\"introduction\"></a>\n",
    "\n",
    "Below is my solution. I used LightGBM, initially I experimented with 3 different models.  Random Forest, the default GBDT , and Gradient based one sided sampling. GBDT, generated the best AUC followed by GOSS then Random Forest. Despite, GBDT yielding the best AUC I decided stack the 3 diverse and different models to archive a much high AUC. This second model used was a Logistic regression used to generate the submission predictions."
   ]
  },
  {
   "cell_type": "code",
   "execution_count": 94,
   "metadata": {},
   "outputs": [],
   "source": [
    "import pandas as pd\n",
    "import numpy as np\n",
    "import sklearn.model_selection as ms\n",
    "from sklearn.metrics import accuracy_score, roc_auc_score\n",
    "from lightgbm import LGBMClassifier\n",
    "from collections import namedtuple\n",
    "from sklearn.linear_model import LogisticRegression\n",
    "from sklearn.linear_model import SGDClassifier\n"
   ]
  },
  {
   "cell_type": "code",
   "execution_count": 95,
   "metadata": {},
   "outputs": [],
   "source": [
    "folds = 10\n",
    "train = pd.read_csv(\"train.csv\")\n",
    "test = pd.read_csv(\"test.csv\")\n",
    "x = pd.DataFrame(train.drop(columns=[\"claim\", \"id\"]))\n",
    "y = train[\"claim\"]\n"
   ]
  },
  {
   "cell_type": "code",
   "execution_count": 96,
   "metadata": {},
   "outputs": [],
   "source": [
    "\n",
    "# x, weight_x, y, weight_y = ms.train_test_split(X, Y, test_size=.05, shuffle=True, random_state=0)\n",
    "\n",
    "test = test\n",
    "xval = pd.DataFrame(test.drop(columns=[\"id\"]))\n",
    "df_split = ms.StratifiedKFold(n_splits=folds, shuffle=True)"
   ]
  },
  {
   "cell_type": "markdown",
   "metadata": {},
   "source": [
    "## Hyperparameters\n",
    "Parameters were determined using randomized search and grid search. Below are the parameters for the 3 models. "
   ]
  },
  {
   "cell_type": "code",
   "execution_count": 97,
   "metadata": {},
   "outputs": [],
   "source": [
    "dt = namedtuple(\"dt\", \"model_ best_para\")\n",
    "para = []\n",
    "\n",
    "para.append(dt(model_=\"goss\", best_para={\"boosting_type\":\"goss\", \"objective\": \"cross_entropy\", \"n_estimators\": 878,\n",
    "                                         \"lambda_l1\": 0.02119367084330647, \n",
    "                                         \"lambda_l2\": 9.259284311814404e-05, \n",
    "                                         \"num_leaves\": 85, \"min_child_samples\": 42, \"verbose\" :-1}))\n",
    "para.append(dt(model_=\"rf\", best_para={\"boosting_type\":\"rf\",\"n_estimators\": 327,\n",
    "                                       \"lambda_l1\": 0.00012043760866269098, \n",
    "                                       \"lambda_l2\": 6.649019338833096e-06, \n",
    "                                       \"num_leaves\": 246, \"min_child_samples\": 99,\n",
    "                                       \"feature_fraction\": 0.7734184326473208,\n",
    "                                       \"bagging_fraction\": 0.999835036473764, \"bagging_freq\": 3, \"verbose\" :-1}))\n",
    "para.append(dt(model_=\"gbdt\", best_para={\"boosting_type\":\"gbdt\",\"n_estimators\": 499, \n",
    "                                         \"lambda_l1\": 1.0450194511913434e-06,\n",
    "                                         \"lambda_l2\": 2.2690854683431152e-07, \n",
    "                                         \"num_leaves\": 110, \"min_child_samples\": 14, \n",
    "                                         \"feature_fraction\": 0.7468626653258925,\n",
    "                                         \"bagging_fraction\": 0.9944777742119832,\n",
    "                                         \"bagging_freq\": 4, \"verbose\" :-1}))\n",
    "\n",
    "para = pd.DataFrame(para)\n",
    "\n",
    "# arrays to hold meta data, and weights\n",
    "meta_val = np.zeros((len(xval.index) * len(para.index), folds))\n",
    "meta_val_ave = np.zeros((len(xval.index), len(para.index)))\n",
    "val_len = len(xval.index)\n",
    "\n",
    "\n",
    "train_meta = np.zeros((len(x.index), len(para.index) + 1))\n"
   ]
  },
  {
   "cell_type": "markdown",
   "metadata": {},
   "source": [
    "## Stage 1 Base models\n",
    "Stage 1, using 9 folds to fit base models with the remaining fold to create meta data. Also, this last fold is used to generate meta predictions using each base model. Finally, the meta data is used to fit the meta model in stage two and the predictions are generated using the meta prediction from the base models."
   ]
  },
  {
   "cell_type": "code",
   "execution_count": 98,
   "metadata": {},
   "outputs": [
    {
     "name": "stdout",
     "output_type": "stream",
     "text": [
      "[LightGBM] [Warning] lambda_l1 is set=0.02119367084330647, reg_alpha=0.0 will be ignored. Current value: lambda_l1=0.02119367084330647\n",
      "[LightGBM] [Warning] lambda_l2 is set=9.259284311814404e-05, reg_lambda=0.0 will be ignored. Current value: lambda_l2=9.259284311814404e-05\n",
      "[LightGBM] [Warning] feature_fraction is set=0.7734184326473208, colsample_bytree=1.0 will be ignored. Current value: feature_fraction=0.7734184326473208\n",
      "[LightGBM] [Warning] lambda_l1 is set=0.00012043760866269098, reg_alpha=0.0 will be ignored. Current value: lambda_l1=0.00012043760866269098\n",
      "[LightGBM] [Warning] bagging_fraction is set=0.999835036473764, subsample=1.0 will be ignored. Current value: bagging_fraction=0.999835036473764\n",
      "[LightGBM] [Warning] lambda_l2 is set=6.649019338833096e-06, reg_lambda=0.0 will be ignored. Current value: lambda_l2=6.649019338833096e-06\n",
      "[LightGBM] [Warning] bagging_freq is set=3, subsample_freq=0 will be ignored. Current value: bagging_freq=3\n",
      "[LightGBM] [Warning] feature_fraction is set=0.7468626653258925, colsample_bytree=1.0 will be ignored. Current value: feature_fraction=0.7468626653258925\n",
      "[LightGBM] [Warning] lambda_l1 is set=1.0450194511913434e-06, reg_alpha=0.0 will be ignored. Current value: lambda_l1=1.0450194511913434e-06\n",
      "[LightGBM] [Warning] bagging_fraction is set=0.9944777742119832, subsample=1.0 will be ignored. Current value: bagging_fraction=0.9944777742119832\n",
      "[LightGBM] [Warning] lambda_l2 is set=2.2690854683431152e-07, reg_lambda=0.0 will be ignored. Current value: lambda_l2=2.2690854683431152e-07\n",
      "[LightGBM] [Warning] bagging_freq is set=4, subsample_freq=0 will be ignored. Current value: bagging_freq=4\n",
      "[LightGBM] [Warning] lambda_l1 is set=0.02119367084330647, reg_alpha=0.0 will be ignored. Current value: lambda_l1=0.02119367084330647\n",
      "[LightGBM] [Warning] lambda_l2 is set=9.259284311814404e-05, reg_lambda=0.0 will be ignored. Current value: lambda_l2=9.259284311814404e-05\n",
      "[LightGBM] [Warning] feature_fraction is set=0.7734184326473208, colsample_bytree=1.0 will be ignored. Current value: feature_fraction=0.7734184326473208\n",
      "[LightGBM] [Warning] lambda_l1 is set=0.00012043760866269098, reg_alpha=0.0 will be ignored. Current value: lambda_l1=0.00012043760866269098\n",
      "[LightGBM] [Warning] bagging_fraction is set=0.999835036473764, subsample=1.0 will be ignored. Current value: bagging_fraction=0.999835036473764\n",
      "[LightGBM] [Warning] lambda_l2 is set=6.649019338833096e-06, reg_lambda=0.0 will be ignored. Current value: lambda_l2=6.649019338833096e-06\n",
      "[LightGBM] [Warning] bagging_freq is set=3, subsample_freq=0 will be ignored. Current value: bagging_freq=3\n",
      "[LightGBM] [Warning] feature_fraction is set=0.7468626653258925, colsample_bytree=1.0 will be ignored. Current value: feature_fraction=0.7468626653258925\n",
      "[LightGBM] [Warning] lambda_l1 is set=1.0450194511913434e-06, reg_alpha=0.0 will be ignored. Current value: lambda_l1=1.0450194511913434e-06\n",
      "[LightGBM] [Warning] bagging_fraction is set=0.9944777742119832, subsample=1.0 will be ignored. Current value: bagging_fraction=0.9944777742119832\n",
      "[LightGBM] [Warning] lambda_l2 is set=2.2690854683431152e-07, reg_lambda=0.0 will be ignored. Current value: lambda_l2=2.2690854683431152e-07\n",
      "[LightGBM] [Warning] bagging_freq is set=4, subsample_freq=0 will be ignored. Current value: bagging_freq=4\n",
      "[LightGBM] [Warning] lambda_l1 is set=0.02119367084330647, reg_alpha=0.0 will be ignored. Current value: lambda_l1=0.02119367084330647\n",
      "[LightGBM] [Warning] lambda_l2 is set=9.259284311814404e-05, reg_lambda=0.0 will be ignored. Current value: lambda_l2=9.259284311814404e-05\n",
      "[LightGBM] [Warning] feature_fraction is set=0.7734184326473208, colsample_bytree=1.0 will be ignored. Current value: feature_fraction=0.7734184326473208\n",
      "[LightGBM] [Warning] lambda_l1 is set=0.00012043760866269098, reg_alpha=0.0 will be ignored. Current value: lambda_l1=0.00012043760866269098\n",
      "[LightGBM] [Warning] bagging_fraction is set=0.999835036473764, subsample=1.0 will be ignored. Current value: bagging_fraction=0.999835036473764\n",
      "[LightGBM] [Warning] lambda_l2 is set=6.649019338833096e-06, reg_lambda=0.0 will be ignored. Current value: lambda_l2=6.649019338833096e-06\n",
      "[LightGBM] [Warning] bagging_freq is set=3, subsample_freq=0 will be ignored. Current value: bagging_freq=3\n",
      "[LightGBM] [Warning] feature_fraction is set=0.7468626653258925, colsample_bytree=1.0 will be ignored. Current value: feature_fraction=0.7468626653258925\n",
      "[LightGBM] [Warning] lambda_l1 is set=1.0450194511913434e-06, reg_alpha=0.0 will be ignored. Current value: lambda_l1=1.0450194511913434e-06\n",
      "[LightGBM] [Warning] bagging_fraction is set=0.9944777742119832, subsample=1.0 will be ignored. Current value: bagging_fraction=0.9944777742119832\n",
      "[LightGBM] [Warning] lambda_l2 is set=2.2690854683431152e-07, reg_lambda=0.0 will be ignored. Current value: lambda_l2=2.2690854683431152e-07\n",
      "[LightGBM] [Warning] bagging_freq is set=4, subsample_freq=0 will be ignored. Current value: bagging_freq=4\n",
      "[LightGBM] [Warning] lambda_l1 is set=0.02119367084330647, reg_alpha=0.0 will be ignored. Current value: lambda_l1=0.02119367084330647\n",
      "[LightGBM] [Warning] lambda_l2 is set=9.259284311814404e-05, reg_lambda=0.0 will be ignored. Current value: lambda_l2=9.259284311814404e-05\n",
      "[LightGBM] [Warning] feature_fraction is set=0.7734184326473208, colsample_bytree=1.0 will be ignored. Current value: feature_fraction=0.7734184326473208\n",
      "[LightGBM] [Warning] lambda_l1 is set=0.00012043760866269098, reg_alpha=0.0 will be ignored. Current value: lambda_l1=0.00012043760866269098\n",
      "[LightGBM] [Warning] bagging_fraction is set=0.999835036473764, subsample=1.0 will be ignored. Current value: bagging_fraction=0.999835036473764\n",
      "[LightGBM] [Warning] lambda_l2 is set=6.649019338833096e-06, reg_lambda=0.0 will be ignored. Current value: lambda_l2=6.649019338833096e-06\n",
      "[LightGBM] [Warning] bagging_freq is set=3, subsample_freq=0 will be ignored. Current value: bagging_freq=3\n",
      "[LightGBM] [Warning] feature_fraction is set=0.7468626653258925, colsample_bytree=1.0 will be ignored. Current value: feature_fraction=0.7468626653258925\n",
      "[LightGBM] [Warning] lambda_l1 is set=1.0450194511913434e-06, reg_alpha=0.0 will be ignored. Current value: lambda_l1=1.0450194511913434e-06\n",
      "[LightGBM] [Warning] bagging_fraction is set=0.9944777742119832, subsample=1.0 will be ignored. Current value: bagging_fraction=0.9944777742119832\n",
      "[LightGBM] [Warning] lambda_l2 is set=2.2690854683431152e-07, reg_lambda=0.0 will be ignored. Current value: lambda_l2=2.2690854683431152e-07\n",
      "[LightGBM] [Warning] bagging_freq is set=4, subsample_freq=0 will be ignored. Current value: bagging_freq=4\n",
      "[LightGBM] [Warning] lambda_l1 is set=0.02119367084330647, reg_alpha=0.0 will be ignored. Current value: lambda_l1=0.02119367084330647\n",
      "[LightGBM] [Warning] lambda_l2 is set=9.259284311814404e-05, reg_lambda=0.0 will be ignored. Current value: lambda_l2=9.259284311814404e-05\n",
      "[LightGBM] [Warning] feature_fraction is set=0.7734184326473208, colsample_bytree=1.0 will be ignored. Current value: feature_fraction=0.7734184326473208\n",
      "[LightGBM] [Warning] lambda_l1 is set=0.00012043760866269098, reg_alpha=0.0 will be ignored. Current value: lambda_l1=0.00012043760866269098\n",
      "[LightGBM] [Warning] bagging_fraction is set=0.999835036473764, subsample=1.0 will be ignored. Current value: bagging_fraction=0.999835036473764\n",
      "[LightGBM] [Warning] lambda_l2 is set=6.649019338833096e-06, reg_lambda=0.0 will be ignored. Current value: lambda_l2=6.649019338833096e-06\n",
      "[LightGBM] [Warning] bagging_freq is set=3, subsample_freq=0 will be ignored. Current value: bagging_freq=3\n",
      "[LightGBM] [Warning] feature_fraction is set=0.7468626653258925, colsample_bytree=1.0 will be ignored. Current value: feature_fraction=0.7468626653258925\n",
      "[LightGBM] [Warning] lambda_l1 is set=1.0450194511913434e-06, reg_alpha=0.0 will be ignored. Current value: lambda_l1=1.0450194511913434e-06\n",
      "[LightGBM] [Warning] bagging_fraction is set=0.9944777742119832, subsample=1.0 will be ignored. Current value: bagging_fraction=0.9944777742119832\n",
      "[LightGBM] [Warning] lambda_l2 is set=2.2690854683431152e-07, reg_lambda=0.0 will be ignored. Current value: lambda_l2=2.2690854683431152e-07\n",
      "[LightGBM] [Warning] bagging_freq is set=4, subsample_freq=0 will be ignored. Current value: bagging_freq=4\n",
      "[LightGBM] [Warning] lambda_l1 is set=0.02119367084330647, reg_alpha=0.0 will be ignored. Current value: lambda_l1=0.02119367084330647\n",
      "[LightGBM] [Warning] lambda_l2 is set=9.259284311814404e-05, reg_lambda=0.0 will be ignored. Current value: lambda_l2=9.259284311814404e-05\n",
      "[LightGBM] [Warning] feature_fraction is set=0.7734184326473208, colsample_bytree=1.0 will be ignored. Current value: feature_fraction=0.7734184326473208\n",
      "[LightGBM] [Warning] lambda_l1 is set=0.00012043760866269098, reg_alpha=0.0 will be ignored. Current value: lambda_l1=0.00012043760866269098\n",
      "[LightGBM] [Warning] bagging_fraction is set=0.999835036473764, subsample=1.0 will be ignored. Current value: bagging_fraction=0.999835036473764\n",
      "[LightGBM] [Warning] lambda_l2 is set=6.649019338833096e-06, reg_lambda=0.0 will be ignored. Current value: lambda_l2=6.649019338833096e-06\n",
      "[LightGBM] [Warning] bagging_freq is set=3, subsample_freq=0 will be ignored. Current value: bagging_freq=3\n",
      "[LightGBM] [Warning] feature_fraction is set=0.7468626653258925, colsample_bytree=1.0 will be ignored. Current value: feature_fraction=0.7468626653258925\n",
      "[LightGBM] [Warning] lambda_l1 is set=1.0450194511913434e-06, reg_alpha=0.0 will be ignored. Current value: lambda_l1=1.0450194511913434e-06\n",
      "[LightGBM] [Warning] bagging_fraction is set=0.9944777742119832, subsample=1.0 will be ignored. Current value: bagging_fraction=0.9944777742119832\n",
      "[LightGBM] [Warning] lambda_l2 is set=2.2690854683431152e-07, reg_lambda=0.0 will be ignored. Current value: lambda_l2=2.2690854683431152e-07\n",
      "[LightGBM] [Warning] bagging_freq is set=4, subsample_freq=0 will be ignored. Current value: bagging_freq=4\n",
      "[LightGBM] [Warning] lambda_l1 is set=0.02119367084330647, reg_alpha=0.0 will be ignored. Current value: lambda_l1=0.02119367084330647\n",
      "[LightGBM] [Warning] lambda_l2 is set=9.259284311814404e-05, reg_lambda=0.0 will be ignored. Current value: lambda_l2=9.259284311814404e-05\n",
      "[LightGBM] [Warning] feature_fraction is set=0.7734184326473208, colsample_bytree=1.0 will be ignored. Current value: feature_fraction=0.7734184326473208\n",
      "[LightGBM] [Warning] lambda_l1 is set=0.00012043760866269098, reg_alpha=0.0 will be ignored. Current value: lambda_l1=0.00012043760866269098\n",
      "[LightGBM] [Warning] bagging_fraction is set=0.999835036473764, subsample=1.0 will be ignored. Current value: bagging_fraction=0.999835036473764\n",
      "[LightGBM] [Warning] lambda_l2 is set=6.649019338833096e-06, reg_lambda=0.0 will be ignored. Current value: lambda_l2=6.649019338833096e-06\n",
      "[LightGBM] [Warning] bagging_freq is set=3, subsample_freq=0 will be ignored. Current value: bagging_freq=3\n",
      "[LightGBM] [Warning] feature_fraction is set=0.7468626653258925, colsample_bytree=1.0 will be ignored. Current value: feature_fraction=0.7468626653258925\n",
      "[LightGBM] [Warning] lambda_l1 is set=1.0450194511913434e-06, reg_alpha=0.0 will be ignored. Current value: lambda_l1=1.0450194511913434e-06\n",
      "[LightGBM] [Warning] bagging_fraction is set=0.9944777742119832, subsample=1.0 will be ignored. Current value: bagging_fraction=0.9944777742119832\n",
      "[LightGBM] [Warning] lambda_l2 is set=2.2690854683431152e-07, reg_lambda=0.0 will be ignored. Current value: lambda_l2=2.2690854683431152e-07\n",
      "[LightGBM] [Warning] bagging_freq is set=4, subsample_freq=0 will be ignored. Current value: bagging_freq=4\n",
      "[LightGBM] [Warning] lambda_l1 is set=0.02119367084330647, reg_alpha=0.0 will be ignored. Current value: lambda_l1=0.02119367084330647\n",
      "[LightGBM] [Warning] lambda_l2 is set=9.259284311814404e-05, reg_lambda=0.0 will be ignored. Current value: lambda_l2=9.259284311814404e-05\n",
      "[LightGBM] [Warning] feature_fraction is set=0.7734184326473208, colsample_bytree=1.0 will be ignored. Current value: feature_fraction=0.7734184326473208\n",
      "[LightGBM] [Warning] lambda_l1 is set=0.00012043760866269098, reg_alpha=0.0 will be ignored. Current value: lambda_l1=0.00012043760866269098\n",
      "[LightGBM] [Warning] bagging_fraction is set=0.999835036473764, subsample=1.0 will be ignored. Current value: bagging_fraction=0.999835036473764\n",
      "[LightGBM] [Warning] lambda_l2 is set=6.649019338833096e-06, reg_lambda=0.0 will be ignored. Current value: lambda_l2=6.649019338833096e-06\n",
      "[LightGBM] [Warning] bagging_freq is set=3, subsample_freq=0 will be ignored. Current value: bagging_freq=3\n",
      "[LightGBM] [Warning] feature_fraction is set=0.7468626653258925, colsample_bytree=1.0 will be ignored. Current value: feature_fraction=0.7468626653258925\n",
      "[LightGBM] [Warning] lambda_l1 is set=1.0450194511913434e-06, reg_alpha=0.0 will be ignored. Current value: lambda_l1=1.0450194511913434e-06\n",
      "[LightGBM] [Warning] bagging_fraction is set=0.9944777742119832, subsample=1.0 will be ignored. Current value: bagging_fraction=0.9944777742119832\n",
      "[LightGBM] [Warning] lambda_l2 is set=2.2690854683431152e-07, reg_lambda=0.0 will be ignored. Current value: lambda_l2=2.2690854683431152e-07\n",
      "[LightGBM] [Warning] bagging_freq is set=4, subsample_freq=0 will be ignored. Current value: bagging_freq=4\n",
      "[LightGBM] [Warning] lambda_l1 is set=0.02119367084330647, reg_alpha=0.0 will be ignored. Current value: lambda_l1=0.02119367084330647\n",
      "[LightGBM] [Warning] lambda_l2 is set=9.259284311814404e-05, reg_lambda=0.0 will be ignored. Current value: lambda_l2=9.259284311814404e-05\n",
      "[LightGBM] [Warning] feature_fraction is set=0.7734184326473208, colsample_bytree=1.0 will be ignored. Current value: feature_fraction=0.7734184326473208\n",
      "[LightGBM] [Warning] lambda_l1 is set=0.00012043760866269098, reg_alpha=0.0 will be ignored. Current value: lambda_l1=0.00012043760866269098\n",
      "[LightGBM] [Warning] bagging_fraction is set=0.999835036473764, subsample=1.0 will be ignored. Current value: bagging_fraction=0.999835036473764\n",
      "[LightGBM] [Warning] lambda_l2 is set=6.649019338833096e-06, reg_lambda=0.0 will be ignored. Current value: lambda_l2=6.649019338833096e-06\n",
      "[LightGBM] [Warning] bagging_freq is set=3, subsample_freq=0 will be ignored. Current value: bagging_freq=3\n",
      "[LightGBM] [Warning] feature_fraction is set=0.7468626653258925, colsample_bytree=1.0 will be ignored. Current value: feature_fraction=0.7468626653258925\n",
      "[LightGBM] [Warning] lambda_l1 is set=1.0450194511913434e-06, reg_alpha=0.0 will be ignored. Current value: lambda_l1=1.0450194511913434e-06\n",
      "[LightGBM] [Warning] bagging_fraction is set=0.9944777742119832, subsample=1.0 will be ignored. Current value: bagging_fraction=0.9944777742119832\n",
      "[LightGBM] [Warning] lambda_l2 is set=2.2690854683431152e-07, reg_lambda=0.0 will be ignored. Current value: lambda_l2=2.2690854683431152e-07\n",
      "[LightGBM] [Warning] bagging_freq is set=4, subsample_freq=0 will be ignored. Current value: bagging_freq=4\n",
      "[LightGBM] [Warning] lambda_l1 is set=0.02119367084330647, reg_alpha=0.0 will be ignored. Current value: lambda_l1=0.02119367084330647\n",
      "[LightGBM] [Warning] lambda_l2 is set=9.259284311814404e-05, reg_lambda=0.0 will be ignored. Current value: lambda_l2=9.259284311814404e-05\n",
      "[LightGBM] [Warning] feature_fraction is set=0.7734184326473208, colsample_bytree=1.0 will be ignored. Current value: feature_fraction=0.7734184326473208\n",
      "[LightGBM] [Warning] lambda_l1 is set=0.00012043760866269098, reg_alpha=0.0 will be ignored. Current value: lambda_l1=0.00012043760866269098\n",
      "[LightGBM] [Warning] bagging_fraction is set=0.999835036473764, subsample=1.0 will be ignored. Current value: bagging_fraction=0.999835036473764\n",
      "[LightGBM] [Warning] lambda_l2 is set=6.649019338833096e-06, reg_lambda=0.0 will be ignored. Current value: lambda_l2=6.649019338833096e-06\n",
      "[LightGBM] [Warning] bagging_freq is set=3, subsample_freq=0 will be ignored. Current value: bagging_freq=3\n",
      "[LightGBM] [Warning] feature_fraction is set=0.7468626653258925, colsample_bytree=1.0 will be ignored. Current value: feature_fraction=0.7468626653258925\n",
      "[LightGBM] [Warning] lambda_l1 is set=1.0450194511913434e-06, reg_alpha=0.0 will be ignored. Current value: lambda_l1=1.0450194511913434e-06\n",
      "[LightGBM] [Warning] bagging_fraction is set=0.9944777742119832, subsample=1.0 will be ignored. Current value: bagging_fraction=0.9944777742119832\n",
      "[LightGBM] [Warning] lambda_l2 is set=2.2690854683431152e-07, reg_lambda=0.0 will be ignored. Current value: lambda_l2=2.2690854683431152e-07\n",
      "[LightGBM] [Warning] bagging_freq is set=4, subsample_freq=0 will be ignored. Current value: bagging_freq=4\n"
     ]
    }
   ],
   "source": [
    "\n",
    "start = 0\n",
    "end = 0\n",
    "for counter, (trn, val) in enumerate(df_split.split(x, y)):\n",
    "    end += len(val)\n",
    "    train_meta[start:end, 0] = y.iloc[val].values\n",
    "\n",
    "    for p in para.itertuples():\n",
    "        model = LGBMClassifier(n_jobs=-1, **p.best_para)\n",
    "        model.fit(x.iloc[trn, :], y.iloc[trn])\n",
    "        train_meta[start:end, p.Index + 1] = model.predict_proba(x.iloc[val, :])[:, 1]\n",
    "        meta_val[val_len * p.Index:val_len * (p.Index + 1), counter] = model.predict_proba(xval)[:, 1]\n",
    "    start +=len(val)\n",
    "\n",
    "    if counter == folds - 1:\n",
    "\n",
    "        for r in range(0,len(para.index)):\n",
    "            mv = meta_val[val_len * r:val_len * (r + 1),]\n",
    "            meta_val_ave[:, r] = np.mean(mv, axis=1)\n",
    "\n"
   ]
  },
  {
   "cell_type": "markdown",
   "metadata": {},
   "source": [
    "## Stage 2 Meta Model\n",
    "Meta data is used to fit Logistics type model to meta data. Then prediction are made using the prediction data from the base models. "
   ]
  },
  {
   "cell_type": "code",
   "execution_count": 99,
   "metadata": {},
   "outputs": [],
   "source": [
    "\n",
    "meta_model = SGDClassifier(max_iter=10000, loss='log')\n",
    "meta_model.fit(train_meta[:, 1:], train_meta[:, 0])\n",
    "pred = meta_model.predict_proba(meta_val_ave)[:, 1]\n"
   ]
  },
  {
   "cell_type": "code",
   "execution_count": 100,
   "metadata": {},
   "outputs": [],
   "source": [
    "\n",
    "final = pd.DataFrame(test[\"id\"])\n",
    "final = final.merge(pd.DataFrame(pred), right_index=True, left_index=True)\n",
    "final.columns = [\"id\", \"claim\"]\n",
    "final.to_csv(\"final.csv\", index=False)\n",
    "\n"
   ]
  }
 ],
 "metadata": {
  "interpreter": {
   "hash": "ce0af373da07d2dce6c9a96d110db493ea7fc1bab5dcebee3b1e5f13f4262c8e"
  },
  "kernelspec": {
   "display_name": "Python 3",
   "language": "python",
   "name": "python3"
  },
  "language_info": {
   "codemirror_mode": {
    "name": "ipython",
    "version": 3
   },
   "file_extension": ".py",
   "mimetype": "text/x-python",
   "name": "python",
   "nbconvert_exporter": "python",
   "pygments_lexer": "ipython3",
   "version": "3.8.5"
  }
 },
 "nbformat": 4,
 "nbformat_minor": 2
}
